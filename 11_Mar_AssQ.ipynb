{
 "cells": [
  {
   "attachments": {},
   "cell_type": "markdown",
   "metadata": {},
   "source": [
    "# Q1: What is the difference between a t-test and a z-test? Provide an example scenario where you would use each type of test."
   ]
  },
  {
   "attachments": {},
   "cell_type": "markdown",
   "metadata": {},
   "source": [
    ">The main difference between a t-test and a z-test is that a t-test is used when the sample size is small or when the population standard deviation is unknown, whereas a z-test is used when the sample size is large and the population standard deviation is known.\n",
    "\n",
    ">A t-test is used when the sample size is small, typically less than 30. For example, suppose a researcher wants to compare the average height of two different populations, but the standard deviation of the heights is unknown. In this case, the researcher can use a t-test to determine if there is a significant difference between the two population means.\n",
    "\n",
    ">A z-test, on the other hand, is used when the sample size is large, typically greater than 30. For example, suppose a researcher wants to compare the average weight of two different populations, and the standard deviation of the weights is known. In this case, the researcher can use a z-test to determine if there is a significant difference between the two population means.\n",
    "\n",
    ">In summary, a t-test is used when the sample size is small or the population standard deviation is unknown, and a z-test is used when the sample size is large and the population standard deviation is known."
   ]
  },
  {
   "attachments": {},
   "cell_type": "markdown",
   "metadata": {},
   "source": [
    "# Q2: Differentiate between one-tailed and two-tailed tests."
   ]
  },
  {
   "attachments": {},
   "cell_type": "markdown",
   "metadata": {},
   "source": [
    ">In hypothesis testing, a one-tailed test is a statistical test where the null hypothesis is rejected only if the sample result falls in one direction of the distribution. Specifically, a one-tailed test is used when there is a directional hypothesis, and the researcher is only interested in testing the hypothesis in one direction. For example, a one-tailed test could be used to test whether the average height of women is greater than the average height of men.\n",
    "\n",
    ">On the other hand, a two-tailed test is a statistical test where the null hypothesis is rejected if the sample result falls in either tail of the distribution. Specifically, a two-tailed test is used when there is a non-directional hypothesis, and the researcher is interested in testing the hypothesis in both directions. For example, a two-tailed test could be used to test whether there is a difference in the average height between men and women."
   ]
  },
  {
   "attachments": {},
   "cell_type": "markdown",
   "metadata": {},
   "source": [
    "# Q3: Explain the concept of Type 1 and Type 2 errors in hypothesis testing. Provide an example scenario for each type of error."
   ]
  },
  {
   "attachments": {},
   "cell_type": "markdown",
   "metadata": {},
   "source": [
    ">In hypothesis testing, Type 1 and Type 2 errors are two types of errors that can occur when making a decision about whether to reject or fail to reject a null hypothesis.\n",
    "\n",
    ">Type 1 error, also known as a false positive, occurs when the null hypothesis is rejected when it is actually true. This means that the researcher concludes that there is a significant effect when in fact there is no effect. The probability of making a Type 1 error is denoted by alpha (α) and is typically set at a pre-determined level, such as 0.05 or 0.01.\n",
    "\n",
    ">Example scenario for Type 1 error: A medical researcher tests a new drug and concludes that it is effective at treating a certain condition when it is actually not effective. Patients may be given the drug unnecessarily, which can lead to side effects and other problems.\n",
    "\n",
    ">Type 2 error, also known as a false negative, occurs when the null hypothesis is not rejected when it is actually false. This means that the researcher fails to detect a significant effect when there is actually an effect. The probability of making a Type 2 error is denoted by beta (β). The power of a statistical test is equal to 1 - β, which is the probability of correctly rejecting a false null hypothesis.\n",
    "\n",
    ">Example scenario for Type 2 error: A medical researcher tests a new drug and concludes that it is not effective at treating a certain condition when it is actually effective. Patients may not receive the drug when it could have been helpful in treating their condition.\n",
    "\n",
    ">It is important to balance the risks of Type 1 and Type 2 errors in hypothesis testing, and the choice of alpha and beta depends on the specific context of the study and the consequences of making each type of error."
   ]
  },
  {
   "attachments": {},
   "cell_type": "markdown",
   "metadata": {},
   "source": [
    "# Q4: Explain Bayes's theorem with an example."
   ]
  },
  {
   "attachments": {},
   "cell_type": "markdown",
   "metadata": {},
   "source": [
    ">Bayes's theorem is a statistical concept that describes the probability of an event based on prior knowledge of conditions that might be related to the event. It was formulated by the Reverend Thomas Bayes, an 18th-century British mathematician.\n",
    "\n",
    ">Bayes's theorem states that the probability of an event A occurring given that event B has occurred can be calculated as:\n",
    "\n",
    ">P(A|B) = P(B|A) * P(A) / P(B)\n",
    "\n",
    ">where:\n",
    "\n",
    ">P(A|B) is the conditional probability of A given B\n",
    ">P(B|A) is the conditional probability of B given A\n",
    ">P(A) is the prior probability of A\n",
    ">P(B) is the prior probability of B\n",
    ">An example of using Bayes's theorem is in medical diagnosis. Suppose a patient takes a diagnostic test for a disease that has a prevalence rate of 1% in the general population. The test has a sensitivity of 95% (correctly identifies people who have the disease) and a specificity of 90% (correctly identifies people who do not have the disease).\n",
    "\n",
    ">If the patient tests positive, what is the probability that they actually have the disease?\n",
    ">\n",
    ">Using Bayes's theorem, we can calculate the probability as follows:\n",
    ">\n",
    ">Let A = \"the patient has the disease\" and B = \"the patient tests positive\"\n",
    ">\n",
    ">P(A|B) = P(B|A) * P(A) / P(B)\n",
    ">\n",
    ">P(B|A) = sensitivity = 0.95\n",
    ">P(A) = prevalence rate = 0.01\n",
    ">P(B) = P(B|A)P(A) + P(B|not A)P(not A)\n",
    ">= 0.950.01 + 0.10.99\n",
    ">= 0.1045\n",
    "\n",
    ">Therefore,\n",
    "\n",
    ">P(A|B) = 0.95 * 0.01 / 0.1045\n",
    ">= 0.0909 or 9.09%\n",
    "\n",
    ">This means that even though the test is 95% sensitive and 90% specific, there is still a relatively low probability (9.09%) that a patient who tests positive actually has the disease. This is because the prevalence rate of the disease is low, which affects the prior probability of having the disease."
   ]
  },
  {
   "attachments": {},
   "cell_type": "markdown",
   "metadata": {},
   "source": [
    "# Q5: What is a confidence interval? How to calculate the confidence interval, explain with an example."
   ]
  },
  {
   "attachments": {},
   "cell_type": "markdown",
   "metadata": {},
   "source": [
    ">A confidence interval is a range of values that we can be confident will contain the true population parameter with a certain level of probability. It is a way to estimate the population parameter (such as the mean or proportion) based on a sample from that population.\n",
    "\n",
    ">The formula to calculate the confidence interval for a population mean is:\n",
    "\n",
    ">Confidence Interval = sample mean ± margin of error\n",
    "\n",
    ">where the margin of error is:\n",
    "\n",
    ">Margin of Error = Z-score * (standard deviation / square root of sample size)\n",
    "\n",
    ">Here, the Z-score is based on the desired confidence level and can be found using a Z-table or calculator. For example, for a 95% confidence level, the Z-score is 1.96.\n",
    "\n",
    ">Let's say we want to estimate the average height of students in a university with 95% confidence. We take a random sample of 100 students and find the sample mean height to be 170 cm with a standard deviation of 5 cm. Using the formula above, we can calculate the confidence interval as:\n",
    "\n",
    ">Margin of Error = 1.96 * (5 / square root of 100) = 0.98\n",
    ">Confidence Interval = 170 ± 0.98 = (169.02, 170.98)\n",
    "\n",
    "\n",
    ">Therefore, we can be 95% confident that the true population mean height of students in the university is between 169.02 and 170.98 cm.>"
   ]
  },
  {
   "attachments": {},
   "cell_type": "markdown",
   "metadata": {},
   "source": [
    "# Q6. Use Bayes' Theorem to calculate the probability of an event occurring given prior knowledge of the event's probability and new evidence. Provide a sample problem and solution."
   ]
  },
  {
   "attachments": {},
   "cell_type": "markdown",
   "metadata": {},
   "source": [
    "Problem: A medical test is used to diagnose a rare disease that affects 1 in 1000 people. The test is 95% accurate, meaning it correctly identifies 95% of people who have the disease and 95% of people who do not have the disease. If a patient tests positive for the disease, what is the probability that they actually have the disease?\n",
    "\n",
    "Solution:\n",
    "\n",
    "Let's first define the events:\n",
    "\n",
    "A = patient has the disease\n",
    "B = patient tests positive\n",
    "\n",
    "We are given the following probabilities:\n",
    "\n",
    "P(A) = 0.001 (the prior probability that a random person has the disease)\n",
    "P(B|A) = 0.95 (the probability that a person with the disease tests positive)\n",
    "P(B|~A) = 0.05 (the probability that a person without the disease tests positive)\n",
    "\n",
    "We want to calculate P(A|B), the probability that the patient actually has the disease given that they tested positive.\n",
    "\n",
    "Using Bayes' Theorem:\n",
    "\n",
    "P(A|B) = P(B|A) * P(A) / P(B)\n",
    "\n",
    "where P(B) is the total probability of testing positive, which can be calculated using the law of total probability:\n",
    "\n",
    "P(B) = P(B|A) * P(A) + P(B|~A) * P(~A)\n",
    "\n",
    "P(~A) is simply the complement of P(A):\n",
    "\n",
    "P(~A) = 1 - P(A)\n",
    "\n",
    "Plugging in the values:\n",
    "\n",
    "P(B) = P(B|A) * P(A) + P(B|~A) * P(~A)\n",
    "= 0.95 * 0.001 + 0.05 * 0.999\n",
    "= 0.0509\n",
    "\n",
    "Now we can calculate P(A|B):\n",
    "\n",
    "P(A|B) = P(B|A) * P(A) / P(B)\n",
    "= 0.95 * 0.001 / 0.0509\n",
    "= 0.0187\n",
    "\n",
    "Therefore, the probability that a patient who tests positive actually has the disease is approximately 1.87%."
   ]
  },
  {
   "attachments": {},
   "cell_type": "markdown",
   "metadata": {},
   "source": [
    "# Q7. Calculate the 95% confidence interval for a sample of data with a mean of 50 and a standard deviation of 5. Interpret the results."
   ]
  },
  {
   "cell_type": "code",
   "execution_count": 1,
   "metadata": {},
   "outputs": [
    {
     "name": "stdout",
     "output_type": "stream",
     "text": [
      "95% Confidence Interval: [49.17, 50.83]\n"
     ]
    }
   ],
   "source": [
    "import scipy.stats as stats\n",
    "\n",
    "# Define variables\n",
    "mean = 50\n",
    "std_dev = 5\n",
    "n = 100  # sample size\n",
    "confidence_level = 0.95\n",
    "\n",
    "# Calculate the standard error of the mean\n",
    "std_error = std_dev / (n ** 0.5)\n",
    "\n",
    "# Calculate the t-value based on the confidence level and degrees of freedom (n-1)\n",
    "t_value = stats.t.ppf(confidence_level, n-1)\n",
    "\n",
    "# Calculate the lower and upper bounds of the confidence interval\n",
    "lower_bound = mean - t_value * std_error\n",
    "upper_bound = mean + t_value * std_error\n",
    "\n",
    "# Print the results\n",
    "print(\"95% Confidence Interval: [{:.2f}, {:.2f}]\".format(lower_bound, upper_bound))\n"
   ]
  },
  {
   "cell_type": "markdown",
   "metadata": {},
   "source": [
    "# Q8. What is the margin of error in a confidence interval? How does sample size affect the margin of error? Provide an example of a scenario where a larger sample size would result in a smaller margin of error."
   ]
  },
  {
   "attachments": {},
   "cell_type": "markdown",
   "metadata": {},
   "source": [
    ">The margin of error in a confidence interval is the maximum distance between the true population parameter and the point estimate obtained from a sample. It represents the amount of uncertainty that arises from sampling variability. The margin of error is typically expressed as a range of values around the point estimate, within which the true population parameter is expected to fall with a certain level of confidence.\n",
    "\n",
    ">Sample size affects the margin of error in a confidence interval. As the sample size increases, the margin of error decreases. This is because a larger sample size reduces the sampling variability and makes the point estimate more accurate. In other words, a larger sample size provides more information about the population and thus allows for more precise estimates.\n",
    "\n",
    ">For example, suppose we want to estimate the average height of people in a certain city. If we take a small sample size, say 20 people, the margin of error will be relatively large, let's say +/- 4 inches. This means that we can be 95% confident that the true population mean falls within the range of (estimated mean +/- 4 inches). However, if we take a larger sample size, say 100 people, the margin of error will be smaller, let's say +/- 2 inches. This means that we can be more confident in our estimate, as the range of plausible values is smaller.\n",
    "\n",
    ">In general, a larger sample size leads to a smaller margin of error, which results in more precise estimates and greater confidence in the results."
   ]
  },
  {
   "attachments": {},
   "cell_type": "markdown",
   "metadata": {},
   "source": [
    "# Q9. Calculate the z-score for a data point with a value of 75, a population mean of 70, and a population standard deviation of 5. Interpret the results."
   ]
  },
  {
   "cell_type": "code",
   "execution_count": 2,
   "metadata": {},
   "outputs": [
    {
     "name": "stdout",
     "output_type": "stream",
     "text": [
      "Z-score: 1.0\n"
     ]
    }
   ],
   "source": [
    "from scipy import stats\n",
    "\n",
    "# Data point value\n",
    "x = 75\n",
    "\n",
    "# Population mean and standard deviation\n",
    "mu = 70\n",
    "sigma = 5\n",
    "\n",
    "# Calculate z-score\n",
    "z = (x - mu) / sigma\n",
    "\n",
    "print(\"Z-score:\", z)\n"
   ]
  },
  {
   "attachments": {},
   "cell_type": "markdown",
   "metadata": {},
   "source": [
    "# QIO. In a study of the effectiveness of a new weight loss drug, a sample of 50 participants lost an average of 6 pounds with a standard deviation of 2.5 pounds. Conduct a hypothesis test to determine if the drug is significantly effective at a 95% confidence level using a t-test."
   ]
  },
  {
   "attachments": {},
   "cell_type": "markdown",
   "metadata": {},
   "source": [
    "To conduct a hypothesis test to determine if the new weight loss drug is significantly effective, we need to set up the null and alternative hypotheses:\n",
    "\n",
    "Null hypothesis H0: The new weight loss drug is not significantly effective.\n",
    "Alternative hypothesis H1: The new weight loss drug is significantly effective.\n",
    "We will use a t-test to test the hypothesis, as we do not know the population standard deviation.\n",
    "\n",
    "Since the sample size is greater than 30, we can assume the distribution is approximately normal. We will use a significance level of 0.05 for our test.\n",
    "\n",
    "We can use the following formula to calculate the t-score:\n",
    "\n",
    "t = (x̄ - μ) / (s / √n)\n",
    "\n",
    "Where:\n",
    "\n",
    "x̄ = sample mean (6 pounds)\n",
    "μ = population mean (we don't know this value, so we assume it to be 0 for the null hypothesis)\n",
    "s = sample standard deviation (2.5 pounds)\n",
    "n = sample size (50)\n",
    "Plugging in the values, we get:\n",
    "\n",
    "t = (6 - 0) / (2.5 / √50) = 12.0\n",
    "\n",
    "We can look up the critical t-value from the t-distribution table with degrees of freedom (df) = n - 1 = 49 and a significance level of 0.05. The critical t-value is 2.009.\n",
    "\n",
    "Since the calculated t-score of 12.0 is greater than the critical t-value of 2.009, we reject the null hypothesis. This means that the new weight loss drug is significantly effective at a 95% confidence level."
   ]
  },
  {
   "attachments": {},
   "cell_type": "markdown",
   "metadata": {},
   "source": [
    "Null hypothesis: The population mean weight loss is equal to 0 pounds (the drug is not effective).\n",
    "Alternative hypothesis: The population mean weight loss is greater than 0 pounds (the drug is effective).\n",
    "\n",
    "We will set the significance level at 0.05, which corresponds to a 95% confidence level.\n",
    "\n",
    "Here's the Python code to perform the t-test:"
   ]
  },
  {
   "cell_type": "code",
   "execution_count": 4,
   "metadata": {},
   "outputs": [
    {
     "name": "stdout",
     "output_type": "stream",
     "text": [
      "Reject null hypothesis. The drug is significantly effective.\n"
     ]
    }
   ],
   "source": [
    "import numpy as np\n",
    "from scipy.stats import t\n",
    "\n",
    "# Given data\n",
    "n = 50\n",
    "mean = 6\n",
    "std_dev = 2.5\n",
    "\n",
    "# Define null hypothesis\n",
    "# Ho: The drug is not significantly effective (mean weight loss <= 0)\n",
    "\n",
    "# Define alternative hypothesis\n",
    "# Ha: The drug is significantly effective (mean weight loss > 0)\n",
    "\n",
    "# Calculate the t-statistic\n",
    "t_stat = (mean - 0) / (std_dev / np.sqrt(n))\n",
    "\n",
    "# Calculate the degrees of freedom\n",
    "df = n - 1\n",
    "\n",
    "# Calculate the p-value for a one-tailed test\n",
    "p_value = 1 - t.cdf(t_stat, df)\n",
    "\n",
    "# Check if the p-value is less than the significance level (alpha)\n",
    "alpha = 0.05\n",
    "if p_value < alpha:\n",
    "    print(\"Reject null hypothesis. The drug is significantly effective.\")\n",
    "else:\n",
    "    print(\"Fail to reject null hypothesis. The drug is not significantly effective.\")\n"
   ]
  },
  {
   "attachments": {},
   "cell_type": "markdown",
   "metadata": {},
   "source": [
    "# Q11. In a survey of 500 people, 65% reported being satisfied with their current job. Calculate the 95% confidence interval for the true proportion of people who are satisfied with their job."
   ]
  },
  {
   "cell_type": "code",
   "execution_count": 6,
   "metadata": {},
   "outputs": [
    {
     "name": "stdout",
     "output_type": "stream",
     "text": [
      "The 95% confidence interval is [0.6082, 0.6918]\n"
     ]
    }
   ],
   "source": [
    "import math\n",
    "\n",
    "p = 0.65\n",
    "n = 500\n",
    "z = 1.96\n",
    "\n",
    "se = math.sqrt(p * (1-p) / n)\n",
    "ci_low = p - z * se\n",
    "ci_high = p + z * se\n",
    "\n",
    "print(\"The 95% confidence interval is [{:.4f}, {:.4f}]\".format(ci_low, ci_high))\n"
   ]
  },
  {
   "attachments": {},
   "cell_type": "markdown",
   "metadata": {},
   "source": [
    "# Q12. A researcher is testing the effectiveness of two different teaching methods on student performance. Sample A has a mean score of 85 with a standard deviation of 6, while sample B has a mean score of 82 with a standard deviation of 5. Conduct a hypothesis test to determine if the two teaching methods have a significant difference in student performance using a t-test with a significance level of 0.01."
   ]
  },
  {
   "attachments": {},
   "cell_type": "markdown",
   "metadata": {},
   "source": [
    "To test the hypothesis, we can use a two-sample t-test assuming unequal variances. The null hypothesis is that there is no significant difference between the two teaching methods in terms of student performance, while the alternative hypothesis is that there is a significant difference.\n",
    "\n",
    "We can use the following formula to calculate the t-test statistic:\n",
    "\n",
    "t = (x1 - x2) / sqrt(s1^2/n1 + s2^2/n2)\n",
    "\n",
    "where x1 and x2 are the sample means, s1 and s2 are the sample standard deviations, and n1 and n2 are the sample sizes.\n",
    "\n",
    "We can use the t-test statistic to calculate the p-value, which is the probability of observing a t-test statistic as extreme or more extreme than the one observed, assuming the null hypothesis is true.\n",
    "\n",
    "If the p-value is less than the significance level (0.01 in this case), we can reject the null hypothesis and conclude that there is a significant difference between the two teaching methods.\n",
    "\n",
    "Here's the Python code to conduct the hypothesis test:"
   ]
  },
  {
   "cell_type": "code",
   "execution_count": 7,
   "metadata": {},
   "outputs": [
    {
     "name": "stdout",
     "output_type": "stream",
     "text": [
      "Reject null hypothesis. There is a significant difference between the two teaching methods.\n"
     ]
    }
   ],
   "source": [
    "import numpy as np\n",
    "from scipy.stats import t\n",
    "\n",
    "# sample A\n",
    "x1 = 85\n",
    "s1 = 6\n",
    "n1 = 50\n",
    "\n",
    "# sample B\n",
    "x2 = 82\n",
    "s2 = 5\n",
    "n2 = 50\n",
    "\n",
    "# degrees of freedom\n",
    "df = n1 + n2 - 2\n",
    "\n",
    "# t-test statistic\n",
    "t_stat = (x1 - x2) / np.sqrt(s1**2/n1 + s2**2/n2)\n",
    "\n",
    "# p-value\n",
    "p_val = 2 * (1 - t.cdf(np.abs(t_stat), df))\n",
    "\n",
    "# check significance level\n",
    "if p_val < 0.01:\n",
    "    print(\"Reject null hypothesis. There is a significant difference between the two teaching methods.\")\n",
    "else:\n",
    "    print(\"Fail to reject null hypothesis. There is no significant difference between the two teaching methods.\")\n"
   ]
  },
  {
   "cell_type": "markdown",
   "metadata": {},
   "source": [
    "Therefore, we can conclude that there is a significant difference between the two teaching methods in terms of student performance."
   ]
  },
  {
   "attachments": {},
   "cell_type": "markdown",
   "metadata": {},
   "source": [
    "# Q13. A population has a mean of 60 and a standard deviation of 8. A sample of 50 observations has a mean of 65. Calculate the 90% confidence interval for the true population mean."
   ]
  },
  {
   "cell_type": "code",
   "execution_count": 8,
   "metadata": {},
   "outputs": [
    {
     "name": "stdout",
     "output_type": "stream",
     "text": [
      "90% Confidence Interval for the Population Mean:\n",
      "Lower Bound: 63.10\n",
      "Upper Bound: 66.90\n"
     ]
    }
   ],
   "source": [
    "import numpy as np\n",
    "from scipy.stats import t\n",
    "\n",
    "# given data\n",
    "population_mean = 60\n",
    "population_std = 8\n",
    "sample_size = 50\n",
    "sample_mean = 65\n",
    "\n",
    "# calculate the standard error of the sample mean\n",
    "std_error = population_std / np.sqrt(sample_size)\n",
    "\n",
    "# calculate the t-value for 90% confidence level and degrees of freedom = sample size - 1\n",
    "t_value = t.ppf(0.95, sample_size - 1)\n",
    "\n",
    "# calculate the margin of error\n",
    "margin_of_error = t_value * std_error\n",
    "\n",
    "# calculate the lower and upper bounds of the confidence interval\n",
    "lower_bound = sample_mean - margin_of_error\n",
    "upper_bound = sample_mean + margin_of_error\n",
    "\n",
    "# print the results\n",
    "print(\"90% Confidence Interval for the Population Mean:\")\n",
    "print(f\"Lower Bound: {lower_bound:.2f}\")\n",
    "print(f\"Upper Bound: {upper_bound:.2f}\")\n"
   ]
  },
  {
   "attachments": {},
   "cell_type": "markdown",
   "metadata": {},
   "source": [
    "# Q14. In a study of the effects of caffeine on reaction time, a sample of 30 participants had an average reaction time of 0.25 seconds with a standard deviation of 0.05 seconds. Conduct a hypothesis test to determine if the caffeine has a significant effect on reaction time at a 90% confidence level using a t-test."
   ]
  },
  {
   "attachments": {},
   "cell_type": "markdown",
   "metadata": {},
   "source": [
    "To conduct the hypothesis test, we need to define the null and alternative hypotheses:\n",
    "\n",
    "Null hypothesis: Caffeine has no significant effect on reaction time.\n",
    "Alternative hypothesis: Caffeine has a significant effect on reaction time.\n",
    "We can use a one-sample t-test since we are comparing the sample mean to a known population mean (in this case, the population mean is not given, so we will assume it is 0.25 seconds).\n",
    "\n",
    "We will use a significance level of 0.1 (90% confidence level) for this test."
   ]
  },
  {
   "cell_type": "code",
   "execution_count": 9,
   "metadata": {},
   "outputs": [
    {
     "name": "stdout",
     "output_type": "stream",
     "text": [
      "Null hypothesis:  Caffeine has no significant effect on reaction time.\n",
      "Alternative hypothesis:  Caffeine has a significant effect on reaction time.\n",
      "Significance level:  0.1\n",
      "Degrees of freedom:  29\n",
      "Sample mean:  0.25\n",
      "Sample standard deviation:  0.05\n",
      "Sample size:  30\n",
      "t-value:  nan\n",
      "p-value:  nan\n",
      "Critical t-value:  -1.6991270265334977\n",
      "Fail to reject the null hypothesis. Caffeine does not have a significant effect on reaction time.\n"
     ]
    },
    {
     "name": "stderr",
     "output_type": "stream",
     "text": [
      "c:\\Users\\milan\\AppData\\Local\\Programs\\Python\\Python311\\Lib\\site-packages\\scipy\\stats\\_axis_nan_policy.py:502: RuntimeWarning: Precision loss occurred in moment calculation due to catastrophic cancellation. This occurs when the data are nearly identical. Results may be unreliable.\n",
      "  res = hypotest_fun_out(*samples, **kwds)\n"
     ]
    }
   ],
   "source": [
    "import scipy.stats as stats\n",
    "\n",
    "# Define the sample data\n",
    "sample_mean = 0.25\n",
    "sample_sd = 0.05\n",
    "sample_size = 30\n",
    "\n",
    "# Define the null and alternative hypotheses\n",
    "null_hypothesis = \"Caffeine has no significant effect on reaction time.\"\n",
    "alternative_hypothesis = \"Caffeine has a significant effect on reaction time.\"\n",
    "\n",
    "# Define the significance level and degrees of freedom\n",
    "alpha = 0.1\n",
    "df = sample_size - 1\n",
    "\n",
    "# Calculate the t-value and p-value\n",
    "t_value, p_value = stats.ttest_1samp([sample_mean]*sample_size, 0.25)\n",
    "\n",
    "# Calculate the critical t-value\n",
    "t_crit = stats.t.ppf(alpha/2, df)\n",
    "\n",
    "# Print the results\n",
    "print(\"Null hypothesis: \", null_hypothesis)\n",
    "print(\"Alternative hypothesis: \", alternative_hypothesis)\n",
    "print(\"Significance level: \", alpha)\n",
    "print(\"Degrees of freedom: \", df)\n",
    "print(\"Sample mean: \", sample_mean)\n",
    "print(\"Sample standard deviation: \", sample_sd)\n",
    "print(\"Sample size: \", sample_size)\n",
    "print(\"t-value: \", t_value)\n",
    "print(\"p-value: \", p_value)\n",
    "print(\"Critical t-value: \", t_crit)\n",
    "\n",
    "# Determine if the null hypothesis should be rejected\n",
    "if abs(t_value) > t_crit or p_value < alpha:\n",
    "    print(\"Reject the null hypothesis. Caffeine has a significant effect on reaction time.\")\n",
    "else:\n",
    "    print(\"Fail to reject the null hypothesis. Caffeine does not have a significant effect on reaction time.\")\n"
   ]
  },
  {
   "cell_type": "code",
   "execution_count": null,
   "metadata": {},
   "outputs": [],
   "source": []
  }
 ],
 "metadata": {
  "kernelspec": {
   "display_name": "Python 3",
   "language": "python",
   "name": "python3"
  },
  "language_info": {
   "codemirror_mode": {
    "name": "ipython",
    "version": 3
   },
   "file_extension": ".py",
   "mimetype": "text/x-python",
   "name": "python",
   "nbconvert_exporter": "python",
   "pygments_lexer": "ipython3",
   "version": "3.11.2"
  },
  "orig_nbformat": 4
 },
 "nbformat": 4,
 "nbformat_minor": 2
}
